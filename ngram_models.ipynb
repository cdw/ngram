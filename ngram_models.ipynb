{
 "cells": [
  {
   "cell_type": "code",
   "execution_count": 7,
   "metadata": {},
   "outputs": [],
   "source": [
    "%load_ext autoreload\n",
    "%autoreload 2"
   ]
  },
  {
   "cell_type": "code",
   "execution_count": 8,
   "metadata": {},
   "outputs": [],
   "source": [
    "from collections import Counter\n",
    "from nltk import ngrams\n",
    "from utils import get_tokenized_sentences"
   ]
  },
  {
   "cell_type": "code",
   "execution_count": 67,
   "metadata": {},
   "outputs": [],
   "source": [
    "class WordCounter:\n",
    "    def __init__(self, sentence_generator):\n",
    "        self.sentence_generator = sentence_generator\n",
    "        self.sentence_count = 0\n",
    "        self.token_count = 0\n",
    "        self.all_ngram_counts = {}\n",
    "        for ngram_length in range(1, 6):\n",
    "            self.all_ngram_counts[ngram_length] = {}\n",
    "        \n",
    "    def count(self):\n",
    "        for sentence in self.sentence_generator:\n",
    "            if sentence:\n",
    "                self.sentence_count += 1\n",
    "            for token in sentence:\n",
    "                self.token_count += 1\n",
    "            for ngram_length in range(1, 6):\n",
    "                ngram_counts = self.all_ngram_counts[ngram_length]\n",
    "                for i, sentence_ngram in enumerate(ngrams(sentence, ngram_length)):\n",
    "                    ngram_count = ngram_counts.setdefault(sentence_ngram, {'start': 0, 'all': 0})\n",
    "                    if i == 0:\n",
    "                        ngram_count['start'] += 1\n",
    "                    ngram_count['all'] += 1"
   ]
  },
  {
   "cell_type": "code",
   "execution_count": 68,
   "metadata": {},
   "outputs": [],
   "source": [
    "trainW_generator = get_tokenized_sentences('data/trainW_token_end.txt')\n",
    "trainW_counter = WordCounter(trainW_generator)\n",
    "trainW_counter.count()"
   ]
  },
  {
   "cell_type": "code",
   "execution_count": 74,
   "metadata": {},
   "outputs": [],
   "source": [
    "trainT_generator = get_tokenized_sentences('data/trainT_token_end.txt')\n",
    "trainT_counter = WordCounter(trainT_generator)\n",
    "trainT_counter.count()"
   ]
  },
  {
   "cell_type": "code",
   "execution_count": 77,
   "metadata": {},
   "outputs": [],
   "source": [
    "test1_generator = get_tokenized_sentences('data/test1_token_end.txt')\n",
    "test1_counter = WordCounter(test1_generator)\n",
    "test1_counter.count()"
   ]
  },
  {
   "cell_type": "code",
   "execution_count": 78,
   "metadata": {},
   "outputs": [],
   "source": [
    "test2_generator = get_tokenized_sentences('data/test2_token_end.txt')\n",
    "test2_counter = WordCounter(test2_generator)\n",
    "test2_counter.count()"
   ]
  },
  {
   "cell_type": "code",
   "execution_count": null,
   "metadata": {},
   "outputs": [],
   "source": []
  }
 ],
 "metadata": {
  "kernelspec": {
   "display_name": "Python 3",
   "language": "python",
   "name": "python3"
  },
  "language_info": {
   "codemirror_mode": {
    "name": "ipython",
    "version": 3
   },
   "file_extension": ".py",
   "mimetype": "text/x-python",
   "name": "python",
   "nbconvert_exporter": "python",
   "pygments_lexer": "ipython3",
   "version": "3.7.6"
  }
 },
 "nbformat": 4,
 "nbformat_minor": 4
}
