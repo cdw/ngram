{
 "cells": [
  {
   "cell_type": "code",
   "execution_count": 1,
   "metadata": {
    "pycharm": {
     "is_executing": false
    }
   },
   "outputs": [],
   "source": [
    "%load_ext autoreload\n",
    "%autoreload 2"
   ]
  },
  {
   "cell_type": "code",
   "execution_count": 2,
   "metadata": {
    "pycharm": {
     "is_executing": false
    }
   },
   "outputs": [],
   "source": [
    "import numpy as np\n",
    "from matplotlib import pyplot as plt\n",
    "from utils import *"
   ]
  },
  {
   "cell_type": "code",
   "execution_count": 3,
   "metadata": {
    "pycharm": {
     "is_executing": false
    }
   },
   "outputs": [],
   "source": [
    "trainW = WordCounter(get_tokenized_sentences('data/trainW_token_end.txt'))\n",
    "trainT = WordCounter(get_tokenized_sentences('data/trainT_token_end.txt'))\n",
    "test1 = WordCounter(get_tokenized_sentences('data/test1_token_end.txt'))\n",
    "test2 = WordCounter(get_tokenized_sentences('data/test2_token_end.txt'))\n",
    "train_easy = WordCounter(get_tokenized_sentences('data/train_easy_token_end.txt'))\n",
    "test_easy = WordCounter(get_tokenized_sentences('data/test_easy_token_end.txt'))\n",
    "train_debug = WordCounter(get_tokenized_sentences('data/train_debug_token_end.txt'))\n",
    "test_debug = WordCounter(get_tokenized_sentences('data/test_debug_token_end.txt'))"
   ]
  },
  {
   "cell_type": "markdown",
   "metadata": {},
   "source": [
    "# ngram model"
   ]
  },
  {
   "cell_type": "markdown",
   "metadata": {},
   "source": [
    "### Unigram model"
   ]
  },
  {
   "cell_type": "code",
   "execution_count": 4,
   "metadata": {
    "pycharm": {
     "is_executing": false
    },
    "scrolled": false
   },
   "outputs": [],
   "source": [
    "unigram_model_debug = UnigramModel(train_debug, k=1)"
   ]
  },
  {
   "cell_type": "code",
   "execution_count": 5,
   "metadata": {
    "pycharm": {
     "is_executing": false
    }
   },
   "outputs": [
    {
     "data": {
      "text/plain": "-3.7952054459852334"
     },
     "metadata": {},
     "output_type": "execute_result",
     "execution_count": 5
    }
   ],
   "source": [
    "unigram_model_debug.calculate_avg_ll(test_debug)"
   ]
  },
  {
   "cell_type": "code",
   "execution_count": 6,
   "metadata": {
    "pycharm": {
     "is_executing": false
    }
   },
   "outputs": [
    {
     "name": "stdout",
     "text": [
      "-18.497573151470494\n",
      "-18.555918913789192\n",
      "-18.54761854416354\n",
      "-18.54868310979827\n"
     ],
     "output_type": "stream"
    }
   ],
   "source": [
    "unigram_model_trainW = UnigramModel(trainW, k=1)\n",
    "\n",
    "for text in [trainW, trainT, test1, test2]:\n",
    "    print(unigram_model_trainW.calculate_avg_ll(text))"
   ]
  },
  {
   "cell_type": "code",
   "execution_count": 7,
   "metadata": {
    "pycharm": {
     "is_executing": false
    }
   },
   "outputs": [
    {
     "name": "stdout",
     "text": [
      "-18.474849865464517\n",
      "-9.321327346878743\n",
      "-9.561905664153294\n",
      "-10.221738332232864\n"
     ],
     "output_type": "stream"
    }
   ],
   "source": [
    "unigram_model_trainT = UnigramModel(trainT, k=1)\n",
    "\n",
    "for text in [trainW, trainT, test1, test2]:\n",
    "    print(unigram_model_trainT.calculate_avg_ll(text))"
   ]
  },
  {
   "cell_type": "markdown",
   "metadata": {},
   "source": [
    "Laplace smoothing as interpolation"
   ]
  },
  {
   "cell_type": "code",
   "execution_count": 8,
   "metadata": {
    "pycharm": {
     "is_executing": false
    }
   },
   "outputs": [],
   "source": [
    "ks = []\n",
    "for power in range(5):\n",
    "    start = 10**power\n",
    "    ks.extend(list(range(start, start*10, start)))"
   ]
  },
  {
   "cell_type": "code",
   "execution_count": 9,
   "metadata": {
    "pycharm": {
     "is_executing": false
    }
   },
   "outputs": [],
   "source": [
    "test1_avg_lls = []\n",
    "test2_avg_lls = []\n",
    "for k in ks:\n",
    "    unigram_model_trainT = UnigramModel(trainT, k=k)\n",
    "    test1_avg_lls.append(unigram_model_trainT.calculate_avg_ll(test1))\n",
    "    test2_avg_lls.append(unigram_model_trainT.calculate_avg_ll(test2))"
   ]
  },
  {
   "cell_type": "code",
   "execution_count": 10,
   "metadata": {
    "pycharm": {
     "is_executing": false
    }
   },
   "outputs": [
    {
     "data": {
      "text/plain": "[<matplotlib.lines.Line2D at 0x1a1f6eae50>]"
     },
     "metadata": {},
     "output_type": "execute_result",
     "execution_count": 10
    },
    {
     "data": {
      "text/plain": "<Figure size 432x288 with 1 Axes>",
      "image/png": "[encoded data removed]"
     },
     "metadata": {
      "needs_background": "light"
     },
     "output_type": "display_data"
    }
   ],
   "source": [
    "plt.semilogx(ks, test1_avg_lls)\n",
    "plt.semilogx(ks, test2_avg_lls)\n",
    "plt.semilogx(ks, (np.array(test1_avg_lls) + np.array(test2_avg_lls))/2)"
   ]
  },
  {
   "cell_type": "markdown",
   "metadata": {},
   "source": [
    "### Bigram model"
   ]
  },
  {
   "cell_type": "code",
   "execution_count": 48,
   "metadata": {
    "pycharm": {
     "is_executing": false
    },
    "scrolled": false
   },
   "outputs": [],
   "source": [
    "bigram_model_debug = MultigramModel(train_debug, n=3, k=1, verbose=True)"
   ]
  },
  {
   "cell_type": "code",
   "execution_count": 49,
   "outputs": [
    {
     "data": {
      "text/plain": "(27, 12, 15)"
     },
     "metadata": {},
     "output_type": "execute_result",
     "execution_count": 49
    }
   ],
   "source": [
    "train_debug.token_count, bigram_model_debug.train_unigram_vocab_size, bigram_model_debug.train_prevgram_vocab_size"
   ],
   "metadata": {
    "collapsed": false,
    "pycharm": {
     "name": "#%%\n",
     "is_executing": false
    }
   }
  },
  {
   "cell_type": "code",
   "execution_count": 50,
   "outputs": [
    {
     "name": "stdout",
     "text": [
      "('<PREV_UNK>',) 0.047619047619047616\n",
      "('he', 'has') 0.09523809523809523\n",
      "('i', 'have') 0.23809523809523808\n"
     ],
     "output_type": "stream"
    }
   ],
   "source": [
    "for prevgram, prevgram_prob in sorted(bigram_model_debug.train_startprobs.items(), key=lambda item: item[0]):\n",
    "    print(prevgram, prevgram_prob)\n"
   ],
   "metadata": {
    "collapsed": false,
    "pycharm": {
     "name": "#%%\n",
     "is_executing": false
    }
   }
  },
  {
   "cell_type": "code",
   "execution_count": 51,
   "outputs": [
    {
     "name": "stdout",
     "text": [
      "('<PREV_UNK>', '<UNK>') 0.07692307692307693\n",
      "('a', 'cat', '<END>') 0.13333333333333333\n",
      "('a', 'cat', '<UNK>') 0.06666666666666667\n",
      "('a', 'cat', 'and') 0.13333333333333333\n",
      "('a', 'dog', '<END>') 0.2\n",
      "('a', 'dog', '<UNK>') 0.06666666666666667\n",
      "('and', 'a', '<UNK>') 0.07142857142857142\n",
      "('and', 'a', 'dog') 0.14285714285714285\n",
      "('cat', 'and', '<UNK>') 0.07142857142857142\n",
      "('cat', 'and', 'a') 0.14285714285714285\n",
      "('has', 'a', '<UNK>') 0.07142857142857142\n",
      "('has', 'a', 'dog') 0.14285714285714285\n",
      "('have', 'a', '<UNK>') 0.06666666666666667\n",
      "('have', 'a', 'cat') 0.2\n",
      "('have', 'nothing', '<END>') 0.14285714285714285\n",
      "('have', 'nothing', '<UNK>') 0.07142857142857142\n",
      "('have', 'two', '<UNK>') 0.07142857142857142\n",
      "('have', 'two', 'cats') 0.14285714285714285\n",
      "('he', 'has', '<UNK>') 0.07142857142857142\n",
      "('he', 'has', 'a') 0.14285714285714285\n",
      "('i', 'have', '<UNK>') 0.058823529411764705\n",
      "('i', 'have', 'a') 0.17647058823529413\n",
      "('i', 'have', 'nothing') 0.11764705882352941\n",
      "('i', 'have', 'two') 0.11764705882352941\n",
      "('two', 'cats', '<END>') 0.14285714285714285\n",
      "('two', 'cats', '<UNK>') 0.07142857142857142\n"
     ],
     "output_type": "stream"
    }
   ],
   "source": [
    "for ngram, ngram_prob in sorted(bigram_model_debug.train_condprobs.items(), key=lambda item: item[0]):\n",
    "    print(ngram, ngram_prob)"
   ],
   "metadata": {
    "collapsed": false,
    "pycharm": {
     "name": "#%%\n",
     "is_executing": false
    }
   }
  },
  {
   "cell_type": "code",
   "execution_count": 54,
   "outputs": [
    {
     "name": "stdout",
     "text": [
      "('a', 'cat', '<END>') 1\n",
      "('a', 'cat', 'and') 1\n",
      "('a', 'dog', '<END>') 2\n",
      "('and', 'a', 'dog') 1\n",
      "('cat', 'and', 'a') 1\n",
      "('has', 'a', 'dog') 1\n",
      "('have', 'a', 'cat') 2\n",
      "('have', 'nothing', '<END>') 1\n",
      "('have', 'two', 'cats') 1\n",
      "('he', 'has', 'a') 1\n",
      "('i', 'have', 'a') 2\n",
      "('i', 'have', 'nothing') 1\n",
      "('i', 'have', 'two') 1\n",
      "('two', 'cats', '<END>') 1\n"
     ],
     "output_type": "stream"
    }
   ],
   "source": [
    "for ngram, ngram_count in sorted(train_debug.all_ngram_counts[3].items(), key=lambda item: item[0]):\n",
    "    print(ngram, ngram_count['all'])"
   ],
   "metadata": {
    "collapsed": false,
    "pycharm": {
     "name": "#%%\n",
     "is_executing": false
    }
   }
  },
  {
   "cell_type": "code",
   "execution_count": 55,
   "outputs": [
    {
     "name": "stdout",
     "text": [
      "('a', 'cat') 2\n",
      "('a', 'dog') 2\n",
      "('and', 'a') 1\n",
      "('cat', '<END>') 1\n",
      "('cat', 'and') 1\n",
      "('cats', '<END>') 1\n",
      "('dog', '<END>') 2\n",
      "('has', 'a') 1\n",
      "('have', 'a') 2\n",
      "('have', 'nothing') 1\n",
      "('have', 'two') 1\n",
      "('he', 'has') 1\n",
      "('i', 'have') 4\n",
      "('nothing', '<END>') 1\n",
      "('two', 'cats') 1\n"
     ],
     "output_type": "stream"
    }
   ],
   "source": [
    "for ngram, ngram_count in sorted(train_debug.all_ngram_counts[2].items(), key=lambda item: item[0]):\n",
    "    print(ngram, ngram_count['all'])"
   ],
   "metadata": {
    "collapsed": false,
    "pycharm": {
     "name": "#%%\n",
     "is_executing": false
    }
   }
  },
  {
   "cell_type": "code",
   "execution_count": 55,
   "outputs": [],
   "source": [
    "bigram_model_debug.calculate_avg_ll(test_debug)"
   ],
   "metadata": {
    "collapsed": false,
    "pycharm": {
     "name": "#%%\n",
     "is_executing": false
    }
   }
  },
  {
   "cell_type": "code",
   "execution_count": null,
   "outputs": [],
   "source": [
    "\n"
   ],
   "metadata": {
    "collapsed": false,
    "pycharm": {
     "name": "#%%\n"
    }
   }
  }
 ],
 "metadata": {
  "kernelspec": {
   "display_name": "Python 3",
   "language": "python",
   "name": "python3"
  },
  "language_info": {
   "codemirror_mode": {
    "name": "ipython",
    "version": 3
   },
   "file_extension": ".py",
   "mimetype": "text/x-python",
   "name": "python",
   "nbconvert_exporter": "python",
   "pygments_lexer": "ipython3",
   "version": "3.7.6"
  },
  "pycharm": {
   "stem_cell": {
    "cell_type": "raw",
    "source": [],
    "metadata": {
     "collapsed": false
    }
   }
  }
 },
 "nbformat": 4,
 "nbformat_minor": 4
}